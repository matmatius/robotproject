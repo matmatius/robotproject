{
 "cells": [
  {
   "cell_type": "code",
   "execution_count": 110,
   "metadata": {},
   "outputs": [],
   "source": [
    "import numpy as np\n",
    "import matplotlib.pyplot as plt\n",
    "\n",
    "# os.chdir(\"/Users/matmatius/Documents/project1\")\n",
    "#from imp import reload\n",
    "\n",
    "\n",
    "\n",
    "# matrix creation\n",
    "\n",
    "\n",
    "# generate plane\n",
    "\n",
    "#np.random.seed(1);matrix=np.random.rand(3,3)\n",
    "\n",
    "\n",
    "def readMax(matrix):\n",
    "    x,y=1,1\n",
    "    mValue=matrix[1][1]\n",
    "    for i in range(len(matrix)):\n",
    "        for j in range(len(matrix)):\n",
    "            if matrix[i][j]>= mValue:\n",
    "                x=i\n",
    "                y=j\n",
    "                mValue=matrix[i][j]\n",
    "    return x,y,mValue\n",
    "                \n",
    "def readMax1(matrix):\n",
    "    indices = np.where(matrix == matrix.max())\n",
    "    return int(indices[0]),int(indices[1]),matrix[int(indices[0]),int(indices[1])]\n",
    "\n",
    "\n",
    "def robotSearch(factory,rx,ry):\n",
    "    trials=10000\n",
    "    while trials>=0:\n",
    "        trials=trials-1\n",
    "        mx,my,mValue=readMax1(factory[rx-1:rx+2,ry-1:ry+2])\n",
    "        if mx==1 and my==1:\n",
    "            trials=-1\n",
    "        else:\n",
    "            rx=rx-1+mx\n",
    "            ry=ry-1+my       \n",
    "    return rx, ry, mValue, \n",
    "\n",
    "#plot matrix\n",
    "#plt.imshow(matrix);\n",
    "#plt.colorbar()\n",
    "#plt.show()\n",
    "\n",
    "\n",
    "                    \n",
    "                \n",
    "    "
   ]
  },
  {
   "cell_type": "code",
   "execution_count": 96,
   "metadata": {},
   "outputs": [],
   "source": [
    "matrix=np.zeros((15,15))"
   ]
  },
  {
   "cell_type": "code",
   "execution_count": 100,
   "metadata": {},
   "outputs": [],
   "source": [
    "matrix[4:8,5:12]=np.random.rand(4,7)"
   ]
  },
  {
   "cell_type": "code",
   "execution_count": 101,
   "metadata": {},
   "outputs": [
    {
     "data": {
      "text/plain": [
       "(5, 8, 0.9889535698840977)"
      ]
     },
     "execution_count": 101,
     "metadata": {},
     "output_type": "execute_result"
    }
   ],
   "source": [
    "robotSearch(matrix,6,8)"
   ]
  },
  {
   "cell_type": "code",
   "execution_count": 102,
   "metadata": {},
   "outputs": [
    {
     "data": {
      "text/plain": [
       "(5, 8, 0.9889535698840977)"
      ]
     },
     "execution_count": 102,
     "metadata": {},
     "output_type": "execute_result"
    }
   ],
   "source": [
    "readMax1(matrix)"
   ]
  },
  {
   "cell_type": "code",
   "execution_count": 103,
   "metadata": {},
   "outputs": [
    {
     "data": {
      "text/plain": [
       "(7, 8, 0.935889242366707)"
      ]
     },
     "execution_count": 103,
     "metadata": {},
     "output_type": "execute_result"
    }
   ],
   "source": [
    "robotSearch(matrix,7,9)"
   ]
  },
  {
   "cell_type": "code",
   "execution_count": 104,
   "metadata": {},
   "outputs": [
    {
     "data": {
      "image/png": "[encoded data removed]",
      "text/plain": [
       "<Figure size 432x288 with 2 Axes>"
      ]
     },
     "metadata": {
      "needs_background": "light"
     },
     "output_type": "display_data"
    }
   ],
   "source": [
    "plt.imshow(matrix);\n",
    "plt.colorbar()\n",
    "plt.show()"
   ]
  },
  {
   "cell_type": "code",
   "execution_count": null,
   "metadata": {},
   "outputs": [],
   "source": [
    "def patrol(factory):\n",
    "    flag=False\n",
    "    moveflag=True\n",
    "    for rx in range(1,len(factory)-1):\n",
    "        if flag== False:\n",
    "            if moveflag== True:\n",
    "                moveflag=False\n",
    "                for ry in range(1,len(factory[0])-1):\n",
    "                    if np.max(factory[rx-1:rx+2,ry-1:ry+2])>0:\n",
    "                        (x,y,z)=robotSearch(factory,rx,ry)\n",
    "                        flag=True\n",
    "                        break\n",
    "            else:\n",
    "                moveflag=True\n",
    "                for ry in range(len(factory[0])-1,1,-1):\n",
    "                    if np.max(factory[rx-1:rx+2,ry-1:ry+2])>0:\n",
    "                        (x,y,z)=robotSearch(factory,rx,ry)\n",
    "                        flag=True\n",
    "                        break\n",
    "        else:\n",
    "            break\n",
    "        \n",
    "    if flag:\n",
    "        print('Leak found at: ',x,y, 'with value:', factory[x,y])\n",
    "    else:\n",
    "        print('No leaks were found')\n",
    "            \n",
    "            "
   ]
  },
  {
   "cell_type": "code",
   "execution_count": 132,
   "metadata": {},
   "outputs": [
    {
     "data": {
      "text/plain": [
       "0.5605353116967995"
      ]
     },
     "execution_count": 132,
     "metadata": {},
     "output_type": "execute_result"
    }
   ],
   "source": [
    "max(matrix[:,11])"
   ]
  },
  {
   "cell_type": "code",
   "execution_count": 133,
   "metadata": {},
   "outputs": [
    {
     "name": "stdout",
     "output_type": "stream",
     "text": [
      "Leak found at:  6 6 with value: 0.9553774158231475\n"
     ]
    }
   ],
   "source": [
    "patrol(matrix)"
   ]
  },
  {
   "cell_type": "code",
   "execution_count": 127,
   "metadata": {},
   "outputs": [
    {
     "data": {
      "text/plain": [
       "0.9889535698840977"
      ]
     },
     "execution_count": 127,
     "metadata": {},
     "output_type": "execute_result"
    }
   ],
   "source": [
    "np.max(matrix)"
   ]
  },
  {
   "cell_type": "code",
   "execution_count": 128,
   "metadata": {},
   "outputs": [
    {
     "data": {
      "text/plain": [
       "0.9553774158231475"
      ]
     },
     "execution_count": 128,
     "metadata": {},
     "output_type": "execute_result"
    }
   ],
   "source": [
    "matrix[6,6]"
   ]
  },
  {
   "cell_type": "code",
   "execution_count": 129,
   "metadata": {},
   "outputs": [
    {
     "data": {
      "image/png": "[encoded data removed]",
      "text/plain": [
       "<Figure size 432x288 with 2 Axes>"
      ]
     },
     "metadata": {
      "needs_background": "light"
     },
     "output_type": "display_data"
    }
   ],
   "source": [
    "plt.imshow(matrix);\n",
    "plt.colorbar()\n",
    "plt.show()"
   ]
  },
  {
   "cell_type": "code",
   "execution_count": 135,
   "metadata": {},
   "outputs": [],
   "source": [
    "factory=np.zeros((20,20))"
   ]
  },
  {
   "cell_type": "code",
   "execution_count": 136,
   "metadata": {},
   "outputs": [
    {
     "name": "stdout",
     "output_type": "stream",
     "text": [
      "No leaks were found\n"
     ]
    }
   ],
   "source": [
    "patrol(factory)"
   ]
  },
  {
   "cell_type": "code",
   "execution_count": 137,
   "metadata": {},
   "outputs": [
    {
     "data": {
      "image/png": "[encoded data removed]",
      "text/plain": [
       "<Figure size 432x288 with 2 Axes>"
      ]
     },
     "metadata": {
      "needs_background": "light"
     },
     "output_type": "display_data"
    }
   ],
   "source": [
    "plt.imshow(factory);\n",
    "plt.colorbar()\n",
    "plt.show()"
   ]
  },
  {
   "cell_type": "code",
   "execution_count": 139,
   "metadata": {},
   "outputs": [],
   "source": [
    "factory[12:18,5:11]=np.random.rand(6,6)"
   ]
  },
  {
   "cell_type": "code",
   "execution_count": 140,
   "metadata": {},
   "outputs": [
    {
     "name": "stdout",
     "output_type": "stream",
     "text": [
      "Leak found at:  15 6 with value: 0.9298463494637913\n"
     ]
    }
   ],
   "source": [
    "patrol(factory)"
   ]
  },
  {
   "cell_type": "code",
   "execution_count": 141,
   "metadata": {},
   "outputs": [
    {
     "data": {
      "image/png": "[encoded data removed]",
      "text/plain": [
       "<Figure size 432x288 with 2 Axes>"
      ]
     },
     "metadata": {
      "needs_background": "light"
     },
     "output_type": "display_data"
    }
   ],
   "source": [
    "plt.imshow(factory);\n",
    "plt.colorbar()\n",
    "plt.show()"
   ]
  },
  {
   "cell_type": "code",
   "execution_count": null,
   "metadata": {},
   "outputs": [],
   "source": []
  }
 ],
 "metadata": {
  "kernelspec": {
   "display_name": "Python 3",
   "language": "python",
   "name": "python3"
  },
  "language_info": {
   "codemirror_mode": {
    "name": "ipython",
    "version": 3
   },
   "file_extension": ".py",
   "mimetype": "text/x-python",
   "name": "python",
   "nbconvert_exporter": "python",
   "pygments_lexer": "ipython3",
   "version": "3.7.3"
  }
 },
 "nbformat": 4,
 "nbformat_minor": 2
}
