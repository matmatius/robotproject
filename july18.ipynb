{
 "cells": [
  {
   "cell_type": "code",
   "execution_count": 234,
   "metadata": {},
   "outputs": [],
   "source": [
    "import numpy as np\n",
    "import matplotlib.pyplot as plt\n",
    "\n",
    "# os.chdir(\"/Users/matmatius/Documents/project1\")\n",
    "#from imp import reload\n",
    "\n",
    "\n",
    "\n",
    "# matrix creation\n",
    "\n",
    "\n",
    "# generate plane\n",
    "\n",
    "#np.random.seed(1);matrix=np.random.rand(3,3)\n",
    "\n",
    "\n",
    "def readMax(matrix):\n",
    "    x,y=1,1\n",
    "    mValue=matrix[1][1]\n",
    "    for i in range(len(matrix)):\n",
    "        for j in range(len(matrix)):\n",
    "            if matrix[i][j]>= mValue:\n",
    "                x=i\n",
    "                y=j\n",
    "                mValue=matrix[i][j]\n",
    "    return x,y,mValue\n",
    "                \n",
    "def readMax1(matrix):\n",
    "    indices = np.where(matrix == matrix.max())\n",
    "    return int(indices[0]),int(indices[1]),matrix[int(indices[0]),int(indices[1])]\n",
    "\n",
    "\n",
    "def robotSearch(factory,rx,ry,position):\n",
    "    trials=10000\n",
    "    while trials>=0:\n",
    "        trials=trials-1\n",
    "        mx,my,mValue=readMax1(factory[rx-1:rx+2,ry-1:ry+2])\n",
    "        if mx==1 and my==1:\n",
    "            trials=-1\n",
    "        else:\n",
    "            rx=rx-1+mx\n",
    "            ry=ry-1+my \n",
    "            position[rx,ry]=1\n",
    "    return rx, ry, mValue, position\n",
    "\n",
    "#plot matrix\n",
    "#plt.imshow(matrix);\n",
    "#plt.colorbar()\n",
    "#plt.show()\n",
    "\n",
    "\n",
    "                    \n",
    "                \n",
    "    "
   ]
  },
  {
   "cell_type": "code",
   "execution_count": 152,
   "metadata": {},
   "outputs": [],
   "source": [
    "matrix=np.zeros((15,15))"
   ]
  },
  {
   "cell_type": "code",
   "execution_count": 154,
   "metadata": {},
   "outputs": [],
   "source": [
    "matrix[4:8,5:12]=np.random.rand(4,7)"
   ]
  },
  {
   "cell_type": "code",
   "execution_count": 155,
   "metadata": {},
   "outputs": [
    {
     "data": {
      "text/plain": [
       "(6, 8, 0.979815187913649)"
      ]
     },
     "execution_count": 155,
     "metadata": {},
     "output_type": "execute_result"
    }
   ],
   "source": [
    "robotSearch(matrix,6,8)"
   ]
  },
  {
   "cell_type": "code",
   "execution_count": 156,
   "metadata": {},
   "outputs": [
    {
     "data": {
      "text/plain": [
       "(6, 8, 0.979815187913649)"
      ]
     },
     "execution_count": 156,
     "metadata": {},
     "output_type": "execute_result"
    }
   ],
   "source": [
    "readMax1(matrix)"
   ]
  },
  {
   "cell_type": "code",
   "execution_count": 157,
   "metadata": {},
   "outputs": [
    {
     "data": {
      "text/plain": [
       "(6, 8, 0.979815187913649)"
      ]
     },
     "execution_count": 157,
     "metadata": {},
     "output_type": "execute_result"
    }
   ],
   "source": [
    "robotSearch(matrix,7,9)"
   ]
  },
  {
   "cell_type": "code",
   "execution_count": 158,
   "metadata": {},
   "outputs": [
    {
     "data": {
      "image/png": "[encoded data removed]",
      "text/plain": [
       "<Figure size 432x288 with 2 Axes>"
      ]
     },
     "metadata": {
      "needs_background": "light"
     },
     "output_type": "display_data"
    }
   ],
   "source": [
    "plt.imshow(matrix);\n",
    "plt.colorbar()\n",
    "plt.show()"
   ]
  },
  {
   "cell_type": "code",
   "execution_count": 235,
   "metadata": {},
   "outputs": [],
   "source": [
    "def patrol(factory):\n",
    "    n1=len(factory)\n",
    "    n2=len(factory[0])\n",
    "    position=np.zeros((n1,n2))\n",
    "    flag=False\n",
    "    moveflag=True\n",
    "    for rx in range(1,len(factory)-1):\n",
    "        if flag== False:\n",
    "            if moveflag== True:\n",
    "                moveflag=False\n",
    "                for ry in range(1,len(factory[0])-1):\n",
    "                    position[rx,ry]=1\n",
    "                    if np.max(factory[rx-1:rx+2,ry-1:ry+2])>0:\n",
    "                        (x,y,z,position)=robotSearch(factory,rx,ry,position)\n",
    "                        flag=True\n",
    "                        break\n",
    "            else:\n",
    "                moveflag=True\n",
    "                for ry in range(len(factory[0])-1,1,-1):\n",
    "                    position[rx,ry]=1\n",
    "                    if np.max(factory[rx-1:rx+2,ry-1:ry+2])>0:\n",
    "                        (x,y,z,position)=robotSearch(factory,rx,ry,position)\n",
    "                        flag=True\n",
    "                        break\n",
    "        else:\n",
    "            break\n",
    "        \n",
    "    if flag:\n",
    "        print('Leak found at: ',x,y, 'with value:', factory[x,y])\n",
    "    else:\n",
    "        print('No leaks were found')\n",
    "    plt.imshow(position);\n",
    "    plt.colorbar()\n",
    "    plt.show()\n",
    "            \n",
    "            "
   ]
  },
  {
   "cell_type": "code",
   "execution_count": 132,
   "metadata": {},
   "outputs": [
    {
     "data": {
      "text/plain": [
       "0.5605353116967995"
      ]
     },
     "execution_count": 132,
     "metadata": {},
     "output_type": "execute_result"
    }
   ],
   "source": [
    "max(matrix[:,11])"
   ]
  },
  {
   "cell_type": "code",
   "execution_count": 160,
   "metadata": {},
   "outputs": [
    {
     "name": "stdout",
     "output_type": "stream",
     "text": [
      "Leak found at:  5 5 with value: 0.7492449662013011\n"
     ]
    }
   ],
   "source": [
    "patrol(matrix)"
   ]
  },
  {
   "cell_type": "code",
   "execution_count": 161,
   "metadata": {},
   "outputs": [
    {
     "data": {
      "text/plain": [
       "0.979815187913649"
      ]
     },
     "execution_count": 161,
     "metadata": {},
     "output_type": "execute_result"
    }
   ],
   "source": [
    "np.max(matrix)"
   ]
  },
  {
   "cell_type": "code",
   "execution_count": 162,
   "metadata": {},
   "outputs": [
    {
     "data": {
      "text/plain": [
       "0.7492449662013011"
      ]
     },
     "execution_count": 162,
     "metadata": {},
     "output_type": "execute_result"
    }
   ],
   "source": [
    "matrix[5,5]"
   ]
  },
  {
   "cell_type": "code",
   "execution_count": 163,
   "metadata": {},
   "outputs": [
    {
     "data": {
      "image/png": "[encoded data removed]",
      "text/plain": [
       "<Figure size 432x288 with 2 Axes>"
      ]
     },
     "metadata": {
      "needs_background": "light"
     },
     "output_type": "display_data"
    }
   ],
   "source": [
    "plt.imshow(matrix);\n",
    "plt.colorbar()\n",
    "plt.show()"
   ]
  },
  {
   "cell_type": "code",
   "execution_count": 175,
   "metadata": {},
   "outputs": [],
   "source": [
    "factory=np.zeros((20,20))"
   ]
  },
  {
   "cell_type": "code",
   "execution_count": 176,
   "metadata": {},
   "outputs": [
    {
     "name": "stdout",
     "output_type": "stream",
     "text": [
      "No leaks were found\n"
     ]
    }
   ],
   "source": [
    "patrol(factory)"
   ]
  },
  {
   "cell_type": "code",
   "execution_count": 177,
   "metadata": {},
   "outputs": [
    {
     "data": {
      "image/png": "[encoded data removed]",
      "text/plain": [
       "<Figure size 432x288 with 2 Axes>"
      ]
     },
     "metadata": {
      "needs_background": "light"
     },
     "output_type": "display_data"
    }
   ],
   "source": [
    "plt.imshow(factory);\n",
    "plt.colorbar()\n",
    "plt.show()"
   ]
  },
  {
   "cell_type": "code",
   "execution_count": 178,
   "metadata": {},
   "outputs": [],
   "source": [
    "factory[12:18,5:11]=np.random.rand(6,6)"
   ]
  },
  {
   "cell_type": "code",
   "execution_count": 179,
   "metadata": {},
   "outputs": [
    {
     "name": "stdout",
     "output_type": "stream",
     "text": [
      "Leak found at:  13 7 with value: 0.8172713260261156\n"
     ]
    }
   ],
   "source": [
    "patrol(factory)"
   ]
  },
  {
   "cell_type": "code",
   "execution_count": 182,
   "metadata": {},
   "outputs": [
    {
     "data": {
      "image/png": "[encoded data removed]",
      "text/plain": [
       "<Figure size 432x288 with 2 Axes>"
      ]
     },
     "metadata": {
      "needs_background": "light"
     },
     "output_type": "display_data"
    }
   ],
   "source": [
    "plt.imshow(factory);\n",
    "plt.colorbar()\n",
    "plt.show()"
   ]
  },
  {
   "cell_type": "code",
   "execution_count": 183,
   "metadata": {},
   "outputs": [],
   "source": [
    "factory1=np.array([[8.521678984586967e-193, 0.0, 0.0, 0.0, 0.0, 0.0, 0.0, 0.0, 0.0, 0.0, 0.0], [3.7471574041477082e-53, 2.1273029748731813e-85, 1.6549748007594145e-267, 0.0, 0.0, 0.0, 0.0, 0.0, 0.0, 0.0, 0.0], [4.3688165713288275e-23, 3.6682649373556974e-26, 1.13800149919875e-33, 4.062300688391953e-64, 0.0, 0.0, 0.0, 0.0, 0.0, 0.0, 0.0], [1.4865651470294533e-12, 6.31935304946132e-12, 3.3565334465019926e-11, 2.386069387327571e-10, 1.7737632440149852e-09, 1.4467502086982264e-14, 0.0, 0.0, 0.0, 0.0, 0.0], [5.215259863410235e-08, 6.107114001899967e-07, 1.1238404485053402e-05, 0.0003646591067681937, 0.019046572730760613, 0.1236443262620386, 4.8746790478213e-31, 0.0, 0.0, 0.0, 0.0], [7.661859242338006e-06, 6.365344721498147e-05, 0.000582827971811102, 0.00484480881510389, 0.018955876252936543, 0.002961670925135358, 7.759091988141583e-11, 4.512088779885663e-82, 0.0, 0.0, 0.0], [8.926116341851431e-05, 0.00042874737911758844, 0.0017737948289535206, 0.004774312823964054, 0.004323367719557073, 0.0002379580558287061, 4.300615912286253e-09, 1.8255415488041845e-26, 2.0036523879830194e-122, 0.0, 0.0], [0.0003044870348886665, 0.0008260360855703465, 0.0018047574922669867, 0.0022487364253965378, 0.0009208192721910004, 3.82389126764583e-05, 9.969986309289041e-09, 7.576600101527534e-18, 2.916379784660107e-44, 5.380406177296102e-154, 0.0], [0.0006111927958515529, 0.0009682628949280663, 0.0011571339832259979, 0.0008605057660847083, 0.00022640327121502014, 9.178234789408524e-06, 1.067862017348197e-08, 8.387999363463915e-15, 2.9241110422281306e-28, 2.0956093915533846e-62, 1.6373239112697905e-179], [0.0007978887889624207, 0.0009250482996291454, 0.0007264833911184803, 0.00031942004941802214, 6.53907390525706e-05, 2.847432361171306e-06, 8.766886267430948e-09, 2.240480986844112e-13, 4.929914722710573e-22, 1.4442883085517261e-39, 4.228051607164549e-80], [0.0008042135968559042, 0.0007286665030499536, 0.0004466064189049534, 0.00015405088508262473, 2.247001371628107e-05, 1.0543447571166064e-06, 6.4785569180653175e-09, 1.308007169814162e-12, 6.79899961432248e-19, 4.870441914118489e-30, 2.7321706895484013e-51]])"
   ]
  },
  {
   "cell_type": "code",
   "execution_count": 184,
   "metadata": {},
   "outputs": [
    {
     "data": {
      "image/png": "[encoded data removed]",
      "text/plain": [
       "<Figure size 432x288 with 2 Axes>"
      ]
     },
     "metadata": {
      "needs_background": "light"
     },
     "output_type": "display_data"
    }
   ],
   "source": [
    "plt.imshow(factory1);\n",
    "plt.colorbar()\n",
    "plt.show()"
   ]
  },
  {
   "cell_type": "code",
   "execution_count": 193,
   "metadata": {},
   "outputs": [],
   "source": [
    "factory2=np.zeros((50,50))"
   ]
  },
  {
   "cell_type": "code",
   "execution_count": 194,
   "metadata": {},
   "outputs": [],
   "source": [
    "factory2[34:45,23:34]=factory1"
   ]
  },
  {
   "cell_type": "code",
   "execution_count": 196,
   "metadata": {},
   "outputs": [
    {
     "data": {
      "image/png": "[encoded data removed]",
      "text/plain": [
       "<Figure size 432x288 with 2 Axes>"
      ]
     },
     "metadata": {
      "needs_background": "light"
     },
     "output_type": "display_data"
    }
   ],
   "source": [
    "plt.imshow(factory2);\n",
    "plt.colorbar()\n",
    "plt.show()"
   ]
  },
  {
   "cell_type": "code",
   "execution_count": 199,
   "metadata": {},
   "outputs": [
    {
     "name": "stdout",
     "output_type": "stream",
     "text": [
      "Leak found at:  38 28 with value: 0.1236443262620386\n"
     ]
    }
   ],
   "source": [
    "patrol(factory2)"
   ]
  },
  {
   "cell_type": "code",
   "execution_count": 206,
   "metadata": {},
   "outputs": [],
   "source": [
    "factory2[13:16,31:34]=np.random.rand(3,3)"
   ]
  },
  {
   "cell_type": "code",
   "execution_count": 210,
   "metadata": {},
   "outputs": [
    {
     "data": {
      "image/png": "[encoded data removed]",
      "text/plain": [
       "<Figure size 432x288 with 2 Axes>"
      ]
     },
     "metadata": {
      "needs_background": "light"
     },
     "output_type": "display_data"
    }
   ],
   "source": [
    "plt.imshow(factory2);\n",
    "plt.colorbar()\n",
    "plt.show()"
   ]
  },
  {
   "cell_type": "code",
   "execution_count": 208,
   "metadata": {},
   "outputs": [
    {
     "name": "stdout",
     "output_type": "stream",
     "text": [
      "Leak found at:  13 31 with value: 0.5721877034647894\n"
     ]
    }
   ],
   "source": [
    "patrol(factory2)"
   ]
  },
  {
   "cell_type": "code",
   "execution_count": 218,
   "metadata": {},
   "outputs": [
    {
     "data": {
      "text/plain": [
       "(15, 15)"
      ]
     },
     "execution_count": 218,
     "metadata": {},
     "output_type": "execute_result"
    }
   ],
   "source": [
    "matrix.shape"
   ]
  },
  {
   "cell_type": "code",
   "execution_count": 236,
   "metadata": {},
   "outputs": [
    {
     "name": "stdout",
     "output_type": "stream",
     "text": [
      "Leak found at:  13 31 with value: 0.5721877034647894\n"
     ]
    },
    {
     "data": {
      "image/png": "[encoded data removed]",
      "text/plain": [
       "<Figure size 432x288 with 2 Axes>"
      ]
     },
     "metadata": {
      "needs_background": "light"
     },
     "output_type": "display_data"
    }
   ],
   "source": [
    "patrol(factory2)"
   ]
  },
  {
   "cell_type": "code",
   "execution_count": 228,
   "metadata": {},
   "outputs": [
    {
     "data": {
      "image/png": "[encoded data removed]",
      "text/plain": [
       "<Figure size 432x288 with 2 Axes>"
      ]
     },
     "metadata": {
      "needs_background": "light"
     },
     "output_type": "display_data"
    }
   ],
   "source": [
    "plt.imshow(factory2);\n",
    "plt.colorbar()\n",
    "plt.show()"
   ]
  },
  {
   "cell_type": "code",
   "execution_count": 237,
   "metadata": {},
   "outputs": [],
   "source": [
    "factory3=np.zeros((50,50))"
   ]
  },
  {
   "cell_type": "code",
   "execution_count": 238,
   "metadata": {},
   "outputs": [],
   "source": [
    "factory3[23:29,35:41]=np.random.rand(6,6)"
   ]
  },
  {
   "cell_type": "code",
   "execution_count": 239,
   "metadata": {},
   "outputs": [
    {
     "data": {
      "image/png": "[encoded data removed]",
      "text/plain": [
       "<Figure size 432x288 with 2 Axes>"
      ]
     },
     "metadata": {
      "needs_background": "light"
     },
     "output_type": "display_data"
    }
   ],
   "source": [
    "plt.imshow(factory3);\n",
    "plt.colorbar()\n",
    "plt.show()"
   ]
  },
  {
   "cell_type": "code",
   "execution_count": 240,
   "metadata": {},
   "outputs": [
    {
     "name": "stdout",
     "output_type": "stream",
     "text": [
      "Leak found at:  23 40 with value: 0.7765588423982638\n"
     ]
    },
    {
     "data": {
      "image/png": "[encoded data removed]",
      "text/plain": [
       "<Figure size 432x288 with 2 Axes>"
      ]
     },
     "metadata": {
      "needs_background": "light"
     },
     "output_type": "display_data"
    }
   ],
   "source": [
    "patrol(factory3)"
   ]
  },
  {
   "cell_type": "code",
   "execution_count": 241,
   "metadata": {},
   "outputs": [
    {
     "data": {
      "text/plain": [
       "(25, 38, 0.9774790484786454)"
      ]
     },
     "execution_count": 241,
     "metadata": {},
     "output_type": "execute_result"
    }
   ],
   "source": [
    "readMax1(factory3)"
   ]
  },
  {
   "cell_type": "code",
   "execution_count": 257,
   "metadata": {},
   "outputs": [
    {
     "data": {
      "image/png": "[encoded data removed]",
      "text/plain": [
       "<Figure size 432x288 with 2 Axes>"
      ]
     },
     "metadata": {
      "needs_background": "light"
     },
     "output_type": "display_data"
    }
   ],
   "source": [
    "plt.imshow(factory3[23:29,35:41]);\n",
    "plt.colorbar()\n",
    "plt.show()"
   ]
  },
  {
   "cell_type": "code",
   "execution_count": 245,
   "metadata": {},
   "outputs": [
    {
     "data": {
      "text/plain": [
       "(6, 6)"
      ]
     },
     "execution_count": 245,
     "metadata": {},
     "output_type": "execute_result"
    }
   ],
   "source": [
    "factory3[23:29,35:41].shape"
   ]
  },
  {
   "cell_type": "code",
   "execution_count": 256,
   "metadata": {},
   "outputs": [],
   "source": [
    "factory3[23:29,35:41][0,5]=1\n",
    "factory3[23:29,35:41][1,4]=1.1\n",
    "factory3[23:29,35:41][2,3]=1.2\n",
    "factory3[23:29,35:41][3,3]=1.3\n",
    "factory3[23:29,35:41][4,4]=1.4\n",
    "factory3[23:29,35:41][5,5]=1.5"
   ]
  },
  {
   "cell_type": "code",
   "execution_count": 258,
   "metadata": {},
   "outputs": [
    {
     "name": "stdout",
     "output_type": "stream",
     "text": [
      "Leak found at:  28 40 with value: 1.5\n"
     ]
    },
    {
     "data": {
      "image/png": "[encoded data removed]",
      "text/plain": [
       "<Figure size 432x288 with 2 Axes>"
      ]
     },
     "metadata": {
      "needs_background": "light"
     },
     "output_type": "display_data"
    }
   ],
   "source": [
    "patrol(factory3)"
   ]
  },
  {
   "cell_type": "code",
   "execution_count": null,
   "metadata": {},
   "outputs": [],
   "source": []
  }
 ],
 "metadata": {
  "kernelspec": {
   "display_name": "Python 3",
   "language": "python",
   "name": "python3"
  },
  "language_info": {
   "codemirror_mode": {
    "name": "ipython",
    "version": 3
   },
   "file_extension": ".py",
   "mimetype": "text/x-python",
   "name": "python",
   "nbconvert_exporter": "python",
   "pygments_lexer": "ipython3",
   "version": "3.7.3"
  }
 },
 "nbformat": 4,
 "nbformat_minor": 2
}
